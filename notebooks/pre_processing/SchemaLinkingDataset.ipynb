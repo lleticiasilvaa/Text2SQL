{
  "cells": [
    {
      "cell_type": "code",
      "execution_count": null,
      "metadata": {
        "id": "IfYdlFgsu12d",
        "colab": {
          "base_uri": "https://localhost:8080/"
        },
        "outputId": "c8870603-ee09-4807-be1b-9168df222c23"
      },
      "outputs": [
        {
          "output_type": "stream",
          "name": "stdout",
          "text": [
            "\u001b[?25l   \u001b[90m━━━━━━━━━━━━━━━━━━━━━━━━━━━━━━━━━━━━━━━━\u001b[0m \u001b[32m0.0/480.6 kB\u001b[0m \u001b[31m?\u001b[0m eta \u001b[36m-:--:--\u001b[0m\r\u001b[2K   \u001b[91m━━━━━━━━━━━━━━━━━━━━━━━━━━━━━━━━━━━━━━━\u001b[0m\u001b[90m╺\u001b[0m \u001b[32m471.0/480.6 kB\u001b[0m \u001b[31m20.5 MB/s\u001b[0m eta \u001b[36m0:00:01\u001b[0m\r\u001b[2K   \u001b[90m━━━━━━━━━━━━━━━━━━━━━━━━━━━━━━━━━━━━━━━━\u001b[0m \u001b[32m480.6/480.6 kB\u001b[0m \u001b[31m8.6 MB/s\u001b[0m eta \u001b[36m0:00:00\u001b[0m\n",
            "\u001b[2K   \u001b[90m━━━━━━━━━━━━━━━━━━━━━━━━━━━━━━━━━━━━━━━━\u001b[0m \u001b[32m2.4/2.4 MB\u001b[0m \u001b[31m38.2 MB/s\u001b[0m eta \u001b[36m0:00:00\u001b[0m\n",
            "\u001b[2K   \u001b[90m━━━━━━━━━━━━━━━━━━━━━━━━━━━━━━━━━━━━━━━━\u001b[0m \u001b[32m116.3/116.3 kB\u001b[0m \u001b[31m5.8 MB/s\u001b[0m eta \u001b[36m0:00:00\u001b[0m\n",
            "\u001b[2K   \u001b[90m━━━━━━━━━━━━━━━━━━━━━━━━━━━━━━━━━━━━━━━━\u001b[0m \u001b[32m179.3/179.3 kB\u001b[0m \u001b[31m8.2 MB/s\u001b[0m eta \u001b[36m0:00:00\u001b[0m\n",
            "\u001b[2K   \u001b[90m━━━━━━━━━━━━━━━━━━━━━━━━━━━━━━━━━━━━━━━━\u001b[0m \u001b[32m134.8/134.8 kB\u001b[0m \u001b[31m8.1 MB/s\u001b[0m eta \u001b[36m0:00:00\u001b[0m\n",
            "\u001b[2K   \u001b[90m━━━━━━━━━━━━━━━━━━━━━━━━━━━━━━━━━━━━━━━━\u001b[0m \u001b[32m3.1/3.1 MB\u001b[0m \u001b[31m18.1 MB/s\u001b[0m eta \u001b[36m0:00:00\u001b[0m\n",
            "\u001b[2K   \u001b[90m━━━━━━━━━━━━━━━━━━━━━━━━━━━━━━━━━━━━━━━━\u001b[0m \u001b[32m194.1/194.1 kB\u001b[0m \u001b[31m9.7 MB/s\u001b[0m eta \u001b[36m0:00:00\u001b[0m\n",
            "\u001b[2K   \u001b[90m━━━━━━━━━━━━━━━━━━━━━━━━━━━━━━━━━━━━━━━━\u001b[0m \u001b[32m49.5/49.5 kB\u001b[0m \u001b[31m2.4 MB/s\u001b[0m eta \u001b[36m0:00:00\u001b[0m\n",
            "\u001b[?25h\u001b[31mERROR: pip's dependency resolver does not currently take into account all the packages that are installed. This behaviour is the source of the following dependency conflicts.\n",
            "gcsfs 2024.10.0 requires fsspec==2024.10.0, but you have fsspec 2024.9.0 which is incompatible.\u001b[0m\u001b[31m\n",
            "\u001b[0m"
          ]
        }
      ],
      "source": [
        "!pip install datasets langchain_community fuzzywuzzy sql_metadata -q"
      ]
    },
    {
      "cell_type": "code",
      "execution_count": null,
      "metadata": {
        "id": "pTnnzhmuu3_C"
      },
      "outputs": [],
      "source": [
        "import sqlite3\n",
        "import sqlparse\n",
        "import re\n",
        "from datasets import load_dataset, Dataset\n",
        "from langchain_community.utilities.sql_database import SQLDatabase\n",
        "from sql_metadata import Parser\n",
        "from fuzzywuzzy import process"
      ]
    },
    {
      "cell_type": "code",
      "source": [
        "from google.colab import userdata\n",
        "WRITE_TOKEN = userdata.get('hf_write')"
      ],
      "metadata": {
        "id": "niCqmNyuQgaU"
      },
      "execution_count": null,
      "outputs": []
    },
    {
      "cell_type": "code",
      "source": [
        "import pandas as pd\n",
        "pd.set_option('display.max_colwidth', None) #definir a opção para mostrar todo o conteúdo das células\n",
        "pd.set_option('display.max_rows', None) #definir a opção para mostrar todas as linhas"
      ],
      "metadata": {
        "id": "8eOhY6gx2Y66"
      },
      "execution_count": null,
      "outputs": []
    },
    {
      "cell_type": "code",
      "source": [
        "from google.colab import drive\n",
        "drive.mount('/content/drive', force_remount=True)"
      ],
      "metadata": {
        "colab": {
          "base_uri": "https://localhost:8080/"
        },
        "id": "LsafYrsGgNOi",
        "outputId": "1b579086-0d5d-43a2-b6fc-57131c0de5de"
      },
      "execution_count": null,
      "outputs": [
        {
          "output_type": "stream",
          "name": "stdout",
          "text": [
            "Mounted at /content/drive\n"
          ]
        }
      ]
    },
    {
      "cell_type": "code",
      "source": [
        "path_base = '/content/drive/Shareddrives/LLMs/Datasets/'\n",
        "\n",
        "train_e_dev_spider_path = path_base + 'spider/database/' #+ {db_id} + '/' + {db_id} + '.sqlite'\n",
        "test_spider_path = path_base + 'spider/test_database/'   #+ {db_id} + '/' + {db_id} + '.sqlite'\n",
        "\n",
        "train_bird_path = path_base + 'bird/train/train_databases/'      #+ {db_id} + '/' + {db_id} + '.sqlite'"
      ],
      "metadata": {
        "id": "8I0xdqjYgLIS"
      },
      "execution_count": null,
      "outputs": []
    },
    {
      "cell_type": "code",
      "source": [
        "database_path = train_e_dev_spider_path"
      ],
      "metadata": {
        "id": "Ebpb98clhEvm"
      },
      "execution_count": null,
      "outputs": []
    },
    {
      "cell_type": "code",
      "source": [
        "def format_dict(dicionario):\n",
        "    sep = \"', '\"\n",
        "    return '{\\n  '+\",\\n  \".join([f\"'{chave}': ['{sep.join(valor)}']\" for chave, valor in dicionario.items()])+'\\n}'"
      ],
      "metadata": {
        "id": "hJYKisfuJ8Aq"
      },
      "execution_count": null,
      "outputs": []
    },
    {
      "cell_type": "code",
      "source": [
        "from fuzzywuzzy import process\n",
        "def find_closest_match(reference, all):\n",
        "    closest_match = process.extractOne(reference, all)\n",
        "    if closest_match:\n",
        "        return closest_match[0]\n",
        "    else:\n",
        "        return None"
      ],
      "metadata": {
        "id": "IdABggH2vTyZ"
      },
      "execution_count": null,
      "outputs": []
    },
    {
      "cell_type": "code",
      "source": [
        "def get_schema_dict(db_id):\n",
        "\n",
        "    db_path = f'{database_path}{db_id}/{db_id}.sqlite'\n",
        "\n",
        "    conn = sqlite3.connect(db_path)\n",
        "    cursor = conn.cursor()\n",
        "\n",
        "    schema_str = \"{\\n\"\n",
        "\n",
        "    # obter uma lista de todas as tabelas\n",
        "    cursor.execute(\"SELECT name FROM sqlite_master WHERE type='table';\")\n",
        "    tables = cursor.fetchall()\n",
        "\n",
        "    for table in tables:\n",
        "        table_name=table[0]\n",
        "\n",
        "        # obter informações das colunas da tabela\n",
        "        cursor.execute(f\"PRAGMA table_info('{table_name}')\")\n",
        "        columns = cursor.fetchall()\n",
        "\n",
        "        schema_str += f\"  '{table_name}': [\"\n",
        "\n",
        "        for column in columns:\n",
        "            column_name = column[1].replace('\"','')\n",
        "            schema_str += f\"'{column_name}', \"\n",
        "\n",
        "        schema_str = schema_str.rstrip(\", \") # remover a última vírgula\n",
        "\n",
        "        schema_str += \"],\\n\"\n",
        "\n",
        "    schema_str = schema_str.rstrip(\",\\n\")\n",
        "    schema_str += '\\n}'\n",
        "\n",
        "    conn.close()\n",
        "    return schema_str"
      ],
      "metadata": {
        "id": "8ogUm6SFJ2qD"
      },
      "execution_count": null,
      "outputs": []
    },
    {
      "cell_type": "code",
      "source": [
        "def get_tables_and_columns(db_id, query, schema_dict, pk=False):\n",
        "\n",
        "    db_path = f'{database_path}{db_id}/{db_id}.sqlite'\n",
        "    connection_string=\"sqlite:///\"+db_path\n",
        "    db = SQLDatabase.from_uri(connection_string, sample_rows_in_table_info=0)\n",
        "\n",
        "    all_tables = [table.lower() for table in db.get_table_names()]\n",
        "    tables_in_query = [table.lower() for table in Parser(query).tables]\n",
        "\n",
        "    #conferir se todas as tabelas fazem parte do schema:\n",
        "    correct_tables = []\n",
        "    for table in tables_in_query:\n",
        "      if table not in all_tables:\n",
        "        closest_match = find_closest_match(table, all_tables)\n",
        "        if closest_match:\n",
        "            if closest_match in all_tables:\n",
        "              correct_tables.append(closest_match)\n",
        "      else:\n",
        "        correct_tables.append(table)\n",
        "\n",
        "    query = query.replace('(',' ').replace(')',' ').replace(',',' ').replace(';',' ').replace('t1.','').replace('t2.',' ').replace('t3.',' ').replace('t4.',' ')\n",
        "    query = query.lower().split()\n",
        "    # print(query)\n",
        "    tokens = []\n",
        "    for token in query:\n",
        "      if '.' in token:\n",
        "        token = token.split('.')[1] #pegar nome da coluna\n",
        "      tokens.append(token)\n",
        "    # print(tokens)\n",
        "    query = tokens\n",
        "\n",
        "    info = {}\n",
        "\n",
        "    for table_name in correct_tables:\n",
        "      if table_name in query:\n",
        "        info[table_name] = []\n",
        "\n",
        "        columns = eval(db.run((f'PRAGMA table_info(\"{table_name}\")')))\n",
        "\n",
        "        for column in columns:\n",
        "          column_name = column[1].lower()\n",
        "\n",
        "          if pk and column[5] == 1:  # se for a incluir chave primária, e a coluna for uma chave primária\n",
        "            info[table_name].append(column_name) #incluir, mesmo se ela não estiver na query\n",
        "\n",
        "          else:\n",
        "            if column_name in query: # or table_name+'.'+column_name in query:\n",
        "               info[table_name].append(column_name)\n",
        "\n",
        "    ### correct columns names:\n",
        "    info_correct = {}\n",
        "\n",
        "    dict_info = eval(format_dict(info))\n",
        "    tables_min = [table for table in dict_info.keys()]\n",
        "    schema_correct = eval(schema_dict)\n",
        "    all_tables = [table for table in schema_correct.keys()]\n",
        "\n",
        "    for table in tables_min:\n",
        "      correct_table = find_closest_match(table,all_tables)\n",
        "      if correct_table:\n",
        "        correct_table = correct_table\n",
        "      else:\n",
        "        correct_table = table\n",
        "\n",
        "      correct_columns = []\n",
        "\n",
        "      for column in dict_info[table]:\n",
        "        correct_column = find_closest_match(column,schema_correct[correct_table])\n",
        "        if correct_column:\n",
        "          correct_columns.append(correct_column)\n",
        "        else:\n",
        "          correct_columns.append(column)\n",
        "\n",
        "      info_correct[correct_table] = correct_columns\n",
        "\n",
        "    return info, info_correct\n"
      ],
      "metadata": {
        "id": "QOuc3UKJEPDz"
      },
      "execution_count": null,
      "outputs": []
    },
    {
      "cell_type": "code",
      "source": [
        "def get_selector(example):\n",
        "  db_id = example['db_id']\n",
        "  schema_dict = get_schema_dict(db_id)\n",
        "  info, info_correct = get_tables_and_columns(db_id, example['query'], schema_dict, True)\n",
        "\n",
        "  example['schema_dict'] = schema_dict\n",
        "  example['selector'] = format_dict(info)\n",
        "  example['selector_correct'] = format_dict(info_correct)\n",
        "\n",
        "  return example\n"
      ],
      "metadata": {
        "id": "7ccvmBsuIdpX"
      },
      "execution_count": null,
      "outputs": []
    }
  ],
  "metadata": {
    "colab": {
      "provenance": [],
      "collapsed_sections": [
        "2sgK1PTQhobw",
        "NKFr1hNslQ_P"
      ]
    },
    "kernelspec": {
      "display_name": "Python 3",
      "name": "python3"
    },
    "language_info": {
      "name": "python"
    }
  },
  "nbformat": 4,
  "nbformat_minor": 0
}